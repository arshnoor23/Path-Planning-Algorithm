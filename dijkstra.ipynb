{
  "nbformat": 4,
  "nbformat_minor": 0,
  "metadata": {
    "colab": {
      "provenance": [],
      "collapsed_sections": [],
      "authorship_tag": "ABX9TyMqTlNf/frcFOe6lGmKt3M4"
    },
    "kernelspec": {
      "name": "python3",
      "display_name": "Python 3"
    },
    "language_info": {
      "name": "python"
    }
  },
  "cells": [
    {
      "cell_type": "code",
      "execution_count": null,
      "metadata": {
        "id": "n71iFLVmd0UB"
      },
      "outputs": [],
      "source": [
        "import numpy as np\n",
        "import matplotlib.pyplot as plt"
      ]
    },
    {
      "cell_type": "code",
      "source": [
        "def dijkstra(map,start):\n",
        "  N = len(map[0])\n",
        "  distance = np.ones(N)*float('inf')\n",
        "  visited = np.zeros(N)\n",
        "  prev = np.ones(N)*N\n",
        "\n",
        "  distance[start] = 0\n",
        "\n",
        "  while sum(visited) < N:\n",
        "    candidates = np.ones(N)*float('inf')\n",
        "    for i in range(N):\n",
        "      if visited[i] == 0:\n",
        "        candidates[i] = distance[i]\n",
        "    currentDistance = min(candidates)\n",
        "    currentPoint = np.argmin(candidates)\n",
        "\n",
        "    for i in range(N):\n",
        "      newDistance = currentDistance + map[currentPoint][i]\n",
        "      if newDistance < distance[i]:\n",
        "        distance[i] = newDistance\n",
        "        prev[i] = currentPoint\n",
        "    visited[currentPoint] = 1\n",
        "\n",
        "  path = np.array([N-1],dtype=int)\n",
        "  while path[0]!=start:\n",
        "      if prev[path[0]]<=N-1:\n",
        "        p = np.array([prev[path[0]]],dtype=int)\n",
        "        path = np.concatenate((p,path),axis=None)\n",
        "\n",
        "  return distance,path"
      ],
      "metadata": {
        "id": "MhWIQ3L8d4_c"
      },
      "execution_count": null,
      "outputs": []
    },
    {
      "cell_type": "code",
      "source": [
        "map = np.array([[0, 3, 11, 10, float('inf'), float('inf')],\n",
        "                [3, 0, float('inf'), 4, 7, float('inf')],\n",
        "                [11, float('inf'), 0, 2, float('inf'), 9],\n",
        "                [10, 4, 2, 0, 1, 4],\n",
        "                [float('inf'), 7, float('inf'), 1, 0, 9],\n",
        "                [float('inf'), float('inf'), 9, 4, 9, 0]])\n"
      ],
      "metadata": {
        "id": "_Ojk9L9mep1s"
      },
      "execution_count": null,
      "outputs": []
    },
    {
      "cell_type": "code",
      "source": [
        "cost,path = dijkstra(map,0)\n",
        "print(cost[len(map[0])-1])\n",
        "print(path)"
      ],
      "metadata": {
        "colab": {
          "base_uri": "https://localhost:8080/"
        },
        "id": "E2CRw82fg88V",
        "outputId": "ffd5ec53-3fad-44aa-90c8-3fc954296759"
      },
      "execution_count": null,
      "outputs": [
        {
          "output_type": "stream",
          "name": "stdout",
          "text": [
            "11.0\n",
            "[0 1 3 5]\n"
          ]
        }
      ]
    }
  ]
}